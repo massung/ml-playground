{
 "cells": [
  {
   "cell_type": "code",
   "execution_count": 6,
   "metadata": {},
   "outputs": [],
   "source": [
    "import dotenv\n",
    "import duckdb\n",
    "import pathlib\n",
    "\n",
    "from alpaca.data.historical import StockHistoricalDataClient\n",
    "from alpaca.data.requests import StockBarsRequest\n",
    "from alpaca.data.timeframe import TimeFrame\n",
    "\n",
    "from tqdm.notebook import tqdm"
   ]
  },
  {
   "cell_type": "markdown",
   "metadata": {},
   "source": [
    "# Identify the Stocks and Years"
   ]
  },
  {
   "cell_type": "code",
   "execution_count": 7,
   "metadata": {},
   "outputs": [],
   "source": [
    "filename = pathlib.Path('sp500.txt')\n",
    "\n",
    "with filename.open() as fp:\n",
    "    stocks = [line.strip() for line in fp.readlines()]\n",
    "\n",
    "years = [\n",
    "    2022,\n",
    "    2023,\n",
    "]"
   ]
  },
  {
   "cell_type": "markdown",
   "metadata": {},
   "source": [
    "# Fetch and Save the Historical Stock Data"
   ]
  },
  {
   "cell_type": "code",
   "execution_count": 4,
   "metadata": {},
   "outputs": [
    {
     "data": {
      "application/vnd.jupyter.widget-view+json": {
       "model_id": "0b9a80fbb0cf4d01bdeb9394342b3015",
       "version_major": 2,
       "version_minor": 0
      },
      "text/plain": [
       "  0%|          | 0/2 [00:00<?, ?it/s]"
      ]
     },
     "metadata": {},
     "output_type": "display_data"
    }
   ],
   "source": [
    "# load secrets\n",
    "env = dotenv.dotenv_values('alpaca.env')\n",
    "\n",
    "# create client\n",
    "client = StockHistoricalDataClient(\n",
    "    api_key=env['API_KEY'],\n",
    "    secret_key=env['SECRET_KEY'],\n",
    ")\n",
    "\n",
    "# process each year\n",
    "for year in tqdm(years):\n",
    "    req_params = StockBarsRequest(\n",
    "        symbol_or_symbols=stocks,\n",
    "        timeframe=TimeFrame.Day,\n",
    "        start=f'{year}-01-01',\n",
    "        end=f'{year}-12-31',\n",
    "    )\n",
    "\n",
    "    # download the history\n",
    "    resp = client.get_stock_bars(req_params)\n",
    "\n",
    "    # convert to a dataframe with stock symbol and date columns\n",
    "    df = resp.df.rename_axis(['stock', 'date']).reset_index()\n",
    "\n",
    "    # remove the timestamp from the date\n",
    "    df['date'] = df['date'].dt.date\n",
    "\n",
    "    # use the target symbol for the output filename\n",
    "    out = f'{filename.stem}_{year}.db'\n",
    "\n",
    "    # save it to disk as a database\n",
    "    with duckdb.connect(out) as con:\n",
    "        con.sql(\"CREATE TABLE stocks AS SELECT * FROM df\")"
   ]
  },
  {
   "cell_type": "code",
   "execution_count": null,
   "metadata": {},
   "outputs": [],
   "source": []
  }
 ],
 "metadata": {
  "kernelspec": {
   "display_name": "Python 3",
   "language": "python",
   "name": "python3"
  },
  "language_info": {
   "codemirror_mode": {
    "name": "ipython",
    "version": 3
   },
   "file_extension": ".py",
   "mimetype": "text/x-python",
   "name": "python",
   "nbconvert_exporter": "python",
   "pygments_lexer": "ipython3",
   "version": "3.11.4"
  }
 },
 "nbformat": 4,
 "nbformat_minor": 2
}
